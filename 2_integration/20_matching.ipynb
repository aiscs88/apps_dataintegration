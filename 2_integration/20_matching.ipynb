{
 "cells": [
  {
   "cell_type": "markdown",
   "id": "5b8622f0",
   "metadata": {},
   "source": [
    "Note: Building the LSH Forest and building the integrated table consumes alot of time and processing power.\n",
    "There is an already build forest and integrated table in file `21_matching`, which can be loaded and tested. With the data in hessenbox"
   ]
  },
  {
   "cell_type": "code",
   "execution_count": 1,
   "id": "d96ed5df",
   "metadata": {},
   "outputs": [],
   "source": [
    "import pandas as pd\n",
    "import matplotlib.pyplot as plt\n",
    "import seaborn as sns\n",
    "from datasketch import MinHash, MinHashLSHForest\n",
    "import time\n",
    "import numpy as np\n",
    "\n",
    "import pickle\n",
    "\n",
    "\n",
    "pd.set_option(\"display.max_columns\", None)\n",
    "pd.set_option(\"display.max_rows\", 100)\n",
    "\n"
   ]
  },
  {
   "cell_type": "markdown",
   "id": "673a32f2",
   "metadata": {},
   "source": [
    "Loading the new cleaned datasets"
   ]
  },
  {
   "cell_type": "code",
   "execution_count": 2,
   "id": "d1eb182a",
   "metadata": {},
   "outputs": [],
   "source": [
    "df_google = pd.read_csv('../data/google_cleaned.csv',parse_dates=[\"Released\",\"Updated\"],index_col=[0])\n",
    "df_apple = pd.read_csv('../data/apple_cleaned.csv',parse_dates=[\"Released\",\"Updated\"],index_col=[0])"
   ]
  },
  {
   "cell_type": "markdown",
   "id": "07d29e4b",
   "metadata": {},
   "source": [
    "- preprocess function splits the App Id and App Name into sets\n",
    "- get_forest function will build the LSH Forest from the google dataset"
   ]
  },
  {
   "cell_type": "code",
   "execution_count": 3,
   "id": "9203f522",
   "metadata": {},
   "outputs": [],
   "source": [
    "from tqdm import tqdm\n",
    "import re\n",
    "\n",
    "\n",
    "def preprocess(text):\n",
    "    tokens = text.lower()\n",
    "    tokens = re.split('\\.| ',tokens)\n",
    "    return tokens\n",
    "\n",
    "def get_forest(data, perms):\n",
    "    start_time = time.time()\n",
    "    \n",
    "    minhash = []\n",
    "    \n",
    "    for text in tqdm(data['text']):\n",
    "        tokens = preprocess(text)\n",
    "        m = MinHash(num_perm=perms)\n",
    "        for s in tokens:\n",
    "            m.update(s.encode('utf8'))\n",
    "        minhash.append(m)\n",
    "        \n",
    "    forest = MinHashLSHForest(num_perm=perms)\n",
    "    \n",
    "    for i,m in enumerate(minhash):\n",
    "        forest.add(i,m)\n",
    "        \n",
    "    forest.index()\n",
    "    \n",
    "    print('It took %s seconds to build forest.' %(time.time()-start_time))\n",
    "    \n",
    "    return forest"
   ]
  },
  {
   "cell_type": "markdown",
   "id": "575fbdf6",
   "metadata": {},
   "source": [
    "predict function will take a text as input and return the similar results from the forest"
   ]
  },
  {
   "cell_type": "code",
   "execution_count": 4,
   "id": "6680c403",
   "metadata": {},
   "outputs": [],
   "source": [
    "def predict(text, database, perms, num_results, forest):    \n",
    "    tokens =  preprocess(text)\n",
    "    \n",
    "    m = MinHash(num_perm=perms)\n",
    "    for s in tokens:\n",
    "        m.update(s.encode('utf8'))\n",
    "        \n",
    "    idx_array = np.array(forest.query(m, num_results))\n",
    "    \n",
    "    result = database.iloc[idx_array]#['App Name']\n",
    "     \n",
    "    return result"
   ]
  },
  {
   "cell_type": "markdown",
   "id": "a1ce2893",
   "metadata": {},
   "source": [
    "Here we are building a forest from the combination of (\"App Id\" + \"App Name\") from the google dataset"
   ]
  },
  {
   "cell_type": "code",
   "execution_count": 6,
   "id": "bb66aed2",
   "metadata": {},
   "outputs": [
    {
     "name": "stderr",
     "output_type": "stream",
     "text": [
      "100%|███████████████████████████████████████████████████████| 2312942/2312942 [1:11:22<00:00, 540.06it/s]\n"
     ]
    },
    {
     "name": "stdout",
     "output_type": "stream",
     "text": [
      "It took 4728.405108213425 seconds to build forest.\n"
     ]
    }
   ],
   "source": [
    "df = pd.DataFrame()\n",
    "df['text'] = df_google['App Id'] + ' ' + df_google['App Name'] \n",
    "\n",
    "forest = get_forest(df, 265)"
   ]
  },
  {
   "cell_type": "code",
   "execution_count": 6,
   "id": "5eeb58a3",
   "metadata": {},
   "outputs": [],
   "source": [
    "def jaccard(v1,v2):\n",
    "    title_set = set(v1)\n",
    "    result_set = set(v2)\n",
    "    return float(len(title_set.intersection(result_set)))/float(len(title_set.union(result_set)))\n"
   ]
  },
  {
   "cell_type": "markdown",
   "id": "fddae0db",
   "metadata": {},
   "source": [
    "Sample set from the (\"App Id\" + \"App Name\")"
   ]
  },
  {
   "cell_type": "code",
   "execution_count": 7,
   "id": "704a36df",
   "metadata": {},
   "outputs": [
    {
     "name": "stdout",
     "output_type": "stream",
     "text": [
      "['com', 'hkbu', 'arc', 'apaper', 'a+', 'paper', 'guide']\n"
     ]
    }
   ],
   "source": [
    "title = \"com.hkbu.arc.apaper A+ Paper Guide\"\n",
    "print(preprocess(title))"
   ]
  },
  {
   "cell_type": "markdown",
   "id": "ca269073",
   "metadata": {},
   "source": [
    "Here are going through the apple dataset\n",
    "1. Query the forest for the top match from the google dataset\n",
    "2. Calculate the Jaccard similarity between the record and the result, using weights.\n",
    "\n",
    "`final score = 0.7 * (\"App Id\" + \"App Name\") + 0.3 (\"Developer\" + \"Developer Name)`"
   ]
  },
  {
   "cell_type": "code",
   "execution_count": 141,
   "id": "7b6afa45",
   "metadata": {},
   "outputs": [
    {
     "name": "stderr",
     "output_type": "stream",
     "text": [
      "100%|██| 1230375/1230375 [2:13:17<00:00, 153.85it/s]\n"
     ]
    }
   ],
   "source": [
    "dfi = pd.DataFrame(columns=[\"apple_id\",\"android_id\",\"score\"])\n",
    "\n",
    "def compare(val):\n",
    "    title = val['App Id'] + ' ' + val['App Name'] + ' ' + val['Developer'] + ' ' + str(val['Developer Website'])\n",
    "    result = predict(title, df_google, 265, 1, forest)\n",
    "    \n",
    "    if(result.empty):\n",
    "        return None\n",
    "    \n",
    "    \n",
    "    j_title = jaccard(preprocess(val['App Id'] + ' ' + val['App Name']),\n",
    "                 preprocess(result.iloc[0][\"App Id\"] + ' ' + result.iloc[0][\"App Name\"])\n",
    "                 )\n",
    "    j_developer = jaccard(preprocess( val['Developer'] + ' ' + str(val['Developer Website'])),\n",
    "                 preprocess(result.iloc[0][\"Developer\"] + ' ' + result.iloc[0][\"Developer Website\"])\n",
    "                 )\n",
    "    \n",
    "\n",
    "    \n",
    "    return (result,.7*j_title+.3*j_developer);\n",
    "\n",
    "\n",
    "arr = []\n",
    "for i in tqdm(range(0,len(df_apple))):\n",
    "    \n",
    "    apple_id = df_apple.iloc[i]\n",
    "    res = compare(apple_id)\n",
    "   \n",
    "    if res == None:\n",
    "        continue;\n",
    "        \n",
    "    arr.append(\n",
    "        {\n",
    "        \"apple_id\": apple_id[\"App Id\"],\n",
    "        \"android_id\": res[0].iloc[0][\"App Id\"],\n",
    "        \"score\": res[1]\n",
    "        }\n",
    "    )"
   ]
  },
  {
   "cell_type": "markdown",
   "id": "db36c331",
   "metadata": {},
   "source": [
    "At the end we have the integrated table with all combined App Ids from the two datasets.\n",
    "Here we can specify a threshold on the score, to consider the match as valid"
   ]
  },
  {
   "cell_type": "code",
   "execution_count": 6,
   "id": "72bc93e7",
   "metadata": {},
   "outputs": [
    {
     "data": {
      "text/html": [
       "<div>\n",
       "<style scoped>\n",
       "    .dataframe tbody tr th:only-of-type {\n",
       "        vertical-align: middle;\n",
       "    }\n",
       "\n",
       "    .dataframe tbody tr th {\n",
       "        vertical-align: top;\n",
       "    }\n",
       "\n",
       "    .dataframe thead th {\n",
       "        text-align: right;\n",
       "    }\n",
       "</style>\n",
       "<table border=\"1\" class=\"dataframe\">\n",
       "  <thead>\n",
       "    <tr style=\"text-align: right;\">\n",
       "      <th></th>\n",
       "      <th>Unnamed: 0</th>\n",
       "      <th>apple_id</th>\n",
       "      <th>android_id</th>\n",
       "      <th>score</th>\n",
       "    </tr>\n",
       "  </thead>\n",
       "  <tbody>\n",
       "    <tr>\n",
       "      <th>0</th>\n",
       "      <td>0</td>\n",
       "      <td>com.hkbu.arc.apaper</td>\n",
       "      <td>com.hkbu.arc.apaper</td>\n",
       "      <td>0.733333</td>\n",
       "    </tr>\n",
       "    <tr>\n",
       "      <th>9</th>\n",
       "      <td>9</td>\n",
       "      <td>com.aaaakh.news</td>\n",
       "      <td>com.aaaakh.news</td>\n",
       "      <td>0.775000</td>\n",
       "    </tr>\n",
       "    <tr>\n",
       "      <th>14</th>\n",
       "      <td>14</td>\n",
       "      <td>com.goodbarber.bigbookaudio</td>\n",
       "      <td>com.goodbarber.bigbookaudio</td>\n",
       "      <td>0.745833</td>\n",
       "    </tr>\n",
       "    <tr>\n",
       "      <th>17</th>\n",
       "      <td>17</td>\n",
       "      <td>com.kazo0.dailyreflection</td>\n",
       "      <td>com.kazo0.dailyreflection</td>\n",
       "      <td>0.733333</td>\n",
       "    </tr>\n",
       "    <tr>\n",
       "      <th>29</th>\n",
       "      <td>29</td>\n",
       "      <td>ca.bintec.meescan.84021342</td>\n",
       "      <td>ca.bintec.meescan.c84021342</td>\n",
       "      <td>0.700000</td>\n",
       "    </tr>\n",
       "    <tr>\n",
       "      <th>...</th>\n",
       "      <td>...</td>\n",
       "      <td>...</td>\n",
       "      <td>...</td>\n",
       "      <td>...</td>\n",
       "    </tr>\n",
       "    <tr>\n",
       "      <th>1229201</th>\n",
       "      <td>1229201</td>\n",
       "      <td>com.syscon.fitmobile</td>\n",
       "      <td>com.syscon.fitmobile</td>\n",
       "      <td>0.742857</td>\n",
       "    </tr>\n",
       "    <tr>\n",
       "      <th>1229204</th>\n",
       "      <td>1229204</td>\n",
       "      <td>com.syslor.syslorar</td>\n",
       "      <td>com.syslor.AR</td>\n",
       "      <td>0.600000</td>\n",
       "    </tr>\n",
       "    <tr>\n",
       "      <th>1229205</th>\n",
       "      <td>1229205</td>\n",
       "      <td>com.zettaservicios.sysmos</td>\n",
       "      <td>com.zettaservicios.sysmos</td>\n",
       "      <td>0.733333</td>\n",
       "    </tr>\n",
       "    <tr>\n",
       "      <th>1229237</th>\n",
       "      <td>1229237</td>\n",
       "      <td>fr.emotic.SystoviPhone</td>\n",
       "      <td>fr.emotic.systovi</td>\n",
       "      <td>0.600000</td>\n",
       "    </tr>\n",
       "    <tr>\n",
       "      <th>1229250</th>\n",
       "      <td>1229250</td>\n",
       "      <td>fr.acheterlouer.selectionauto</td>\n",
       "      <td>fr.acheterlouer.selectionauto</td>\n",
       "      <td>0.820000</td>\n",
       "    </tr>\n",
       "  </tbody>\n",
       "</table>\n",
       "<p>199225 rows × 4 columns</p>\n",
       "</div>"
      ],
      "text/plain": [
       "         Unnamed: 0                       apple_id  \\\n",
       "0                 0            com.hkbu.arc.apaper   \n",
       "9                 9                com.aaaakh.news   \n",
       "14               14    com.goodbarber.bigbookaudio   \n",
       "17               17      com.kazo0.dailyreflection   \n",
       "29               29     ca.bintec.meescan.84021342   \n",
       "...             ...                            ...   \n",
       "1229201     1229201           com.syscon.fitmobile   \n",
       "1229204     1229204            com.syslor.syslorar   \n",
       "1229205     1229205      com.zettaservicios.sysmos   \n",
       "1229237     1229237         fr.emotic.SystoviPhone   \n",
       "1229250     1229250  fr.acheterlouer.selectionauto   \n",
       "\n",
       "                            android_id     score  \n",
       "0                  com.hkbu.arc.apaper  0.733333  \n",
       "9                      com.aaaakh.news  0.775000  \n",
       "14         com.goodbarber.bigbookaudio  0.745833  \n",
       "17           com.kazo0.dailyreflection  0.733333  \n",
       "29         ca.bintec.meescan.c84021342  0.700000  \n",
       "...                                ...       ...  \n",
       "1229201           com.syscon.fitmobile  0.742857  \n",
       "1229204                  com.syslor.AR  0.600000  \n",
       "1229205      com.zettaservicios.sysmos  0.733333  \n",
       "1229237              fr.emotic.systovi  0.600000  \n",
       "1229250  fr.acheterlouer.selectionauto  0.820000  \n",
       "\n",
       "[199225 rows x 4 columns]"
      ]
     },
     "execution_count": 6,
     "metadata": {},
     "output_type": "execute_result"
    }
   ],
   "source": [
    "df = pd.DataFrame(arr)\n",
    "df.loc[df[\"score\"] > .5]"
   ]
  }
 ],
 "metadata": {
  "kernelspec": {
   "display_name": "Python 3",
   "language": "python",
   "name": "python3"
  },
  "language_info": {
   "codemirror_mode": {
    "name": "ipython",
    "version": 3
   },
   "file_extension": ".py",
   "mimetype": "text/x-python",
   "name": "python",
   "nbconvert_exporter": "python",
   "pygments_lexer": "ipython3",
   "version": "3.8.10"
  }
 },
 "nbformat": 4,
 "nbformat_minor": 5
}
