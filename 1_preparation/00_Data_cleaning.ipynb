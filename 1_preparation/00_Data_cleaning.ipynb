{
 "cells": [
  {
   "cell_type": "code",
   "execution_count": 1,
   "id": "9026898e",
   "metadata": {},
   "outputs": [],
   "source": [
    "import pandas as pd\n",
    "pd.set_option(\"display.max_columns\", None)\n",
    "pd.set_option(\"display.max_rows\", 100)"
   ]
  },
  {
   "cell_type": "code",
   "execution_count": 25,
   "id": "adc5aa5e",
   "metadata": {},
   "outputs": [],
   "source": [
    "df_google = pd.read_csv('../data/Google-Playstore.csv')\n",
    "df_apple = pd.read_csv('../data/appleAppData.csv')"
   ]
  },
  {
   "cell_type": "code",
   "execution_count": 3,
   "id": "a433e447",
   "metadata": {
    "scrolled": true
   },
   "outputs": [
    {
     "name": "stdout",
     "output_type": "stream",
     "text": [
      "------------Google------------------\n",
      "<class 'pandas.core.frame.DataFrame'>\n",
      "RangeIndex: 2312944 entries, 0 to 2312943\n",
      "Data columns (total 24 columns):\n",
      " #   Column             Dtype  \n",
      "---  ------             -----  \n",
      " 0   App Name           object \n",
      " 1   App Id             object \n",
      " 2   Category           object \n",
      " 3   Rating             float64\n",
      " 4   Rating Count       float64\n",
      " 5   Installs           object \n",
      " 6   Minimum Installs   float64\n",
      " 7   Maximum Installs   int64  \n",
      " 8   Free               bool   \n",
      " 9   Price              float64\n",
      " 10  Currency           object \n",
      " 11  Size               object \n",
      " 12  Minimum Android    object \n",
      " 13  Developer Id       object \n",
      " 14  Developer Website  object \n",
      " 15  Developer Email    object \n",
      " 16  Released           object \n",
      " 17  Last Updated       object \n",
      " 18  Content Rating     object \n",
      " 19  Privacy Policy     object \n",
      " 20  Ad Supported       bool   \n",
      " 21  In App Purchases   bool   \n",
      " 22  Editors Choice     bool   \n",
      " 23  Scraped Time       object \n",
      "dtypes: bool(4), float64(4), int64(1), object(15)\n",
      "memory usage: 361.8+ MB\n",
      "Shape = (2312944, 24)\n",
      "------------Apple------------------\n",
      "<class 'pandas.core.frame.DataFrame'>\n",
      "RangeIndex: 1230376 entries, 0 to 1230375\n",
      "Data columns (total 21 columns):\n",
      " #   Column                   Non-Null Count    Dtype  \n",
      "---  ------                   --------------    -----  \n",
      " 0   App_Id                   1230376 non-null  object \n",
      " 1   App_Name                 1230375 non-null  object \n",
      " 2   AppStore_Url             1230376 non-null  object \n",
      " 3   Primary_Genre            1230376 non-null  object \n",
      " 4   Content_Rating           1230376 non-null  object \n",
      " 5   Size_Bytes               1230152 non-null  float64\n",
      " 6   Required_IOS_Version     1230376 non-null  object \n",
      " 7   Released                 1230373 non-null  object \n",
      " 8   Updated                  1230376 non-null  object \n",
      " 9   Version                  1230376 non-null  object \n",
      " 10  Price                    1229886 non-null  float64\n",
      " 11  Currency                 1230376 non-null  object \n",
      " 12  Free                     1230376 non-null  bool   \n",
      " 13  DeveloperId              1230376 non-null  int64  \n",
      " 14  Developer                1230376 non-null  object \n",
      " 15  Developer_Url            1229267 non-null  object \n",
      " 16  Developer_Website        586388 non-null   object \n",
      " 17  Average_User_Rating      1230376 non-null  float64\n",
      " 18  Reviews                  1230376 non-null  int64  \n",
      " 19  Current_Version_Score    1230376 non-null  float64\n",
      " 20  Current_Version_Reviews  1230376 non-null  int64  \n",
      "dtypes: bool(1), float64(4), int64(3), object(13)\n",
      "memory usage: 188.9+ MB\n",
      "Shape = (1230376, 21)\n"
     ]
    }
   ],
   "source": [
    "print(\"------------Google------------------\")\n",
    "df_google.info()\n",
    "print(\"Shape = \" + str(df_google.shape))\n",
    "print(\"------------Apple------------------\")\n",
    "df_apple.info()\n",
    "print(\"Shape = \" + str(df_apple.shape))"
   ]
  },
  {
   "cell_type": "code",
   "execution_count": 27,
   "id": "39889203",
   "metadata": {},
   "outputs": [
    {
     "name": "stdout",
     "output_type": "stream",
     "text": [
      "Number of null values in Android dataset\n"
     ]
    },
    {
     "data": {
      "text/plain": [
       "App Name                  2\n",
       "App Id                    0\n",
       "Category                  0\n",
       "Rating                22883\n",
       "Rating Count          22883\n",
       "Installs                107\n",
       "Minimum Installs        107\n",
       "Maximum Installs          0\n",
       "Free                      0\n",
       "Price                     0\n",
       "Currency                135\n",
       "Size                    196\n",
       "Minimum Android        6530\n",
       "Developer Id             33\n",
       "Developer Website    760835\n",
       "Developer Email          31\n",
       "Released              71053\n",
       "Last Updated              0\n",
       "Content Rating            0\n",
       "Privacy Policy       420953\n",
       "Ad Supported              0\n",
       "In App Purchases          0\n",
       "Editors Choice            0\n",
       "Scraped Time              0\n",
       "dtype: int64"
      ]
     },
     "execution_count": 27,
     "metadata": {},
     "output_type": "execute_result"
    }
   ],
   "source": [
    "print(\"Number of null values in Android dataset\")\n",
    "df_google.isnull().sum()\n"
   ]
  },
  {
   "cell_type": "code",
   "execution_count": 28,
   "id": "ba6767f8",
   "metadata": {},
   "outputs": [
    {
     "name": "stdout",
     "output_type": "stream",
     "text": [
      "Number of null values in Apple dataset\n"
     ]
    },
    {
     "data": {
      "text/plain": [
       "App_Id                          0\n",
       "App_Name                        1\n",
       "AppStore_Url                    0\n",
       "Primary_Genre                   0\n",
       "Content_Rating                  0\n",
       "Size_Bytes                    224\n",
       "Required_IOS_Version            0\n",
       "Released                        3\n",
       "Updated                         0\n",
       "Version                         0\n",
       "Price                         490\n",
       "Currency                        0\n",
       "Free                            0\n",
       "DeveloperId                     0\n",
       "Developer                       0\n",
       "Developer_Url                1109\n",
       "Developer_Website          643988\n",
       "Average_User_Rating             0\n",
       "Reviews                         0\n",
       "Current_Version_Score           0\n",
       "Current_Version_Reviews         0\n",
       "dtype: int64"
      ]
     },
     "execution_count": 28,
     "metadata": {},
     "output_type": "execute_result"
    }
   ],
   "source": [
    "print(\"Number of null values in Apple dataset\")\n",
    "df_apple.isnull().sum()"
   ]
  },
  {
   "cell_type": "code",
   "execution_count": 4,
   "id": "b10f696a",
   "metadata": {},
   "outputs": [],
   "source": [
    "def replace_value(df,cmp,val,des):\n",
    "        print(des + str(len(df.loc[df[cmp].isnull()])))\n",
    "        df.loc[df[cmp].isnull(),cmp] = val"
   ]
  },
  {
   "cell_type": "code",
   "execution_count": 5,
   "id": "001edf5d",
   "metadata": {},
   "outputs": [
    {
     "name": "stdout",
     "output_type": "stream",
     "text": [
      "[google] apps without name 2\n",
      "[apple] apps without name 1\n"
     ]
    }
   ],
   "source": [
    "# Drop rows without app name is null\n",
    "no_name = df_google[df_google['App Name'].isnull()].index\n",
    "print(\"[google] apps without name \" + str(len(no_name)))\n",
    "df_google.drop(no_name,inplace=True)\n",
    "\n",
    "\n",
    "no_name = df_apple[df_apple['App_Name'].isnull()].index\n",
    "print(\"[apple] apps without name \" + str(len(no_name)))\n",
    "df_apple.drop(no_name,inplace=True)\n",
    "\n",
    "# rename google \"App Name\" into \"App_Name\"\n",
    "df_apple.rename(columns={\"App_Name\": \"App Name\"},inplace=True)\n"
   ]
  },
  {
   "cell_type": "code",
   "execution_count": 6,
   "id": "34a3edad",
   "metadata": {},
   "outputs": [
    {
     "name": "stdout",
     "output_type": "stream",
     "text": [
      "[google] rating null 22883\n",
      "[apple] rating null 0\n"
     ]
    }
   ],
   "source": [
    "# Replace null rating with 0\n",
    "\n",
    "replace_value(df_google,\"Rating\",0,\"[google] rating null \")\n",
    "\n",
    "# rename Apple \"Average_User_Rating\" into Rating\n",
    "df_apple.rename(columns={\"Average_User_Rating\": \"Rating\"},inplace=True)\n",
    "replace_value(df_apple,\"Rating\",0,\"[apple] rating null \")\n",
    "\n"
   ]
  },
  {
   "cell_type": "code",
   "execution_count": 7,
   "id": "3d1b8380",
   "metadata": {},
   "outputs": [
    {
     "name": "stdout",
     "output_type": "stream",
     "text": [
      "[google] price null 0\n",
      "[apple] price null 490\n"
     ]
    }
   ],
   "source": [
    "# Replace null price with 0\n",
    "\n",
    "replace_value(df_google,\"Price\",0,\"[google] price null \")\n",
    "replace_value(df_apple,\"Price\",0,\"[apple] price null \")\n"
   ]
  },
  {
   "cell_type": "code",
   "execution_count": 8,
   "id": "45b10128",
   "metadata": {},
   "outputs": [
    {
     "name": "stdout",
     "output_type": "stream",
     "text": [
      "[google] other currency count 1396\n"
     ]
    }
   ],
   "source": [
    "# Currency, Convert all google other currency into xxx\n",
    "print(\"[google] other currency count \" + str(len( df_google.loc[df_google[\"Currency\"] != \"USD\"] )))\n",
    "df_google.loc[df_google[\"Currency\"] != \"USD\",\"Currency\"] = \"XXX\""
   ]
  },
  {
   "cell_type": "code",
   "execution_count": 9,
   "id": "5256b244",
   "metadata": {},
   "outputs": [
    {
     "name": "stdout",
     "output_type": "stream",
     "text": [
      "[google] Rating Count null 22883\n",
      "[apple] Rating Count null 0\n"
     ]
    }
   ],
   "source": [
    "# Fixing the \"rating count\" column\n",
    "\n",
    "\n",
    "replace_value(df_google,\"Rating Count\",0,\"[google] Rating Count null \")\n",
    "# Convert Rating count into int\n",
    "df_google[\"Rating Count\"].astype('int')\n",
    "\n",
    "# Replace apple column Reviews into Rating Count\n",
    "df_apple.rename(columns={\"Reviews\":\"Rating Count\"},inplace=True)\n",
    "replace_value(df_apple,\"Rating Count\",0,\"[apple] Rating Count null \")\n"
   ]
  },
  {
   "cell_type": "code",
   "execution_count": 10,
   "id": "99835150",
   "metadata": {},
   "outputs": [],
   "source": [
    "# Fixing Installs on android by taking the average of \"Minimum Installs\" and \"Maximum Installs\"\n",
    "# No install column for apple\n",
    "\n",
    "df_google[\"Installs\"] = round((df_google[\"Minimum Installs\"] + df_google[\"Maximum Installs\"]) / 2)"
   ]
  },
  {
   "cell_type": "code",
   "execution_count": 11,
   "id": "cae888c2",
   "metadata": {},
   "outputs": [],
   "source": [
    "# Rename App_Id to App Id\n",
    "\n",
    "df_apple.rename(columns={\"App_Id\":\"App Id\"},inplace=True)"
   ]
  },
  {
   "cell_type": "code",
   "execution_count": 12,
   "id": "1ec36a55",
   "metadata": {},
   "outputs": [
    {
     "name": "stdout",
     "output_type": "stream",
     "text": [
      "[google] Size null 196\n",
      "[apple] Size null 224\n",
      "[google] size mean 19266901.24980566\n",
      "[apple] size mean 75094942.08582748\n"
     ]
    }
   ],
   "source": [
    "# replace apple Size_Bytes column name\n",
    "df_apple.rename(columns={\"Size_Bytes\":\"Size\"},inplace=True)\n",
    "\n",
    "replace_value(df_google,\"Size\",0,\"[google] Size null \")\n",
    "replace_value(df_apple,\"Size\",0,\"[apple] Size null \")\n",
    "\n",
    "\n",
    "# Convert values to bytes\n",
    "def toByte(d):\n",
    "    d = str(d)\n",
    "    d = d.replace(\",\",'');\n",
    "    l = d.strip()[-1].lower()\n",
    "    \n",
    "    if l == 'm':\n",
    "        return int(float(d[0:-1]))*1024*1024;\n",
    "    if l == \"g\":\n",
    "        return int(float(d[0:-1]))*1024*1024*1024;\n",
    "    if l == \"k\":\n",
    "        return int(float(d[0:-1]))*1024;\n",
    "    if l == '0':\n",
    "        return 0;\n",
    "    if d == 'Varies with device':\n",
    "        return 0;\n",
    "    return int(d);\n",
    "    \n",
    "df_google[\"Size\"] = df_google[\"Size\"].apply(toByte)\n",
    "\n",
    "m = df_google[\"Size\"].mean()\n",
    "\n",
    "\n",
    "# replace google and apple value \"Varies with device\" and null with mean\n",
    "print(\"[google] size mean \" + str(m))\n",
    "df_google.loc[df_google[\"Size\"] == 0,\"Size\"] = m\n",
    "\n",
    "m = df_apple[\"Size\"].mean()\n",
    "\n",
    "print(\"[apple] size mean \" + str(m))\n",
    "df_apple.loc[df_apple[\"Size\"] == 0,\"Size\"] = m\n",
    "\n"
   ]
  },
  {
   "cell_type": "code",
   "execution_count": 13,
   "id": "60260cd0",
   "metadata": {},
   "outputs": [
    {
     "name": "stdout",
     "output_type": "stream",
     "text": [
      "[google] Minimum Android in the dataset is = 1.0\n",
      "[google] Minimum Android null 6530\n"
     ]
    }
   ],
   "source": [
    "# \"Minimum Android\" remove string and comvert to float\n",
    "\n",
    "df_google[\"Minimum Android\"] = df_google[\"Minimum Android\"].replace(\"and up\",\"\",regex=True).str.strip()\n",
    "\n",
    "# replace Null with the lowset value \n",
    "lst = df_google[\"Minimum Android\"].unique().astype(str)\n",
    "lst.sort()\n",
    "\n",
    "print(\"[google] Minimum Android in the dataset is = \" + lst[0])\n",
    "replace_value(df_google,\"Minimum Android\",lst[0],\"[google] Minimum Android null \")\n",
    "\n",
    "# rename apple and android to Minimum OS\n",
    "df_google.rename(columns={\"Minimum Android\":\"Minimum OS\"},inplace=True)\n",
    "df_apple.rename(columns={\"Required_IOS_Version\":\"Minimum OS\"},inplace=True)"
   ]
  },
  {
   "cell_type": "code",
   "execution_count": 14,
   "id": "c405a202",
   "metadata": {},
   "outputs": [
    {
     "name": "stdout",
     "output_type": "stream",
     "text": [
      "[google] Released null 71053\n"
     ]
    }
   ],
   "source": [
    "# Filling the values of Android released column with the nearest value\n",
    "print(\"[google] Released null \" + str(len( df_google.loc[df_google[\"Released\"].isnull()] )))\n",
    "df_google[\"Released\"].fillna(method='bfill',inplace=True)\n",
    "df_google[\"Released\"] = pd.to_datetime(df_google[\"Released\"],format=\"%b %d, %Y\")\n",
    "\n",
    "df_apple[\"Released\"] = pd.to_datetime(df_apple[\"Released\"],format=\"%Y-%m-%d\")"
   ]
  },
  {
   "cell_type": "code",
   "execution_count": 15,
   "id": "c50abdd9",
   "metadata": {},
   "outputs": [],
   "source": [
    "# rename android column from \"Last Updated\" to \"Updated\"\n",
    "\n",
    "df_google.rename(columns={\"Last Updated\": \"Updated\"},inplace=True)\n",
    "df_google[\"Released\"] = pd.to_datetime(df_google[\"Released\"],format=\"%b %d, %Y\")\n",
    "df_google[\"Updated\"] = pd.to_datetime(df_google[\"Updated\"],format=\"%b %d, %Y\")"
   ]
  },
  {
   "cell_type": "code",
   "execution_count": 16,
   "id": "d2a8c33f",
   "metadata": {},
   "outputs": [],
   "source": [
    "# rename apple column \"Content_Rating\" into \"Content Rating\"\n",
    "\n",
    "df_apple.rename(columns={\"Content_Rating\":\"Content Rating\"},inplace=True)"
   ]
  },
  {
   "cell_type": "code",
   "execution_count": 17,
   "id": "e9f28be8",
   "metadata": {},
   "outputs": [],
   "source": [
    "# rename android column \"Developer Id\" into Developer\n",
    "\n",
    "df_google.rename(columns={\"Developer Id\": \"Developer\"},inplace=True)"
   ]
  },
  {
   "cell_type": "code",
   "execution_count": 18,
   "id": "fcfdfff0",
   "metadata": {},
   "outputs": [],
   "source": [
    "# rename apple Developer_Website into Developer Website\n",
    "df_apple.rename(columns={\"Developer_Website\":\"Developer Website\"},inplace=True)"
   ]
  },
  {
   "cell_type": "code",
   "execution_count": 19,
   "id": "77875f60",
   "metadata": {},
   "outputs": [],
   "source": [
    "# replace empty google \"Developer Website\" with email and remove the gmail from the email address\n",
    "df_google.loc[df_google[\"Developer Website\"].isnull(),\"Developer Website\"] = df_google[\"Developer Email\"].str.replace(\".gmail.com\",\"\",regex=True)"
   ]
  },
  {
   "cell_type": "code",
   "execution_count": 20,
   "id": "7be4430c",
   "metadata": {},
   "outputs": [],
   "source": [
    "# rename apple Primary_Genre into Category\n",
    "df_apple.rename(columns={\"Primary_Genre\":\"Category\"},inplace=True)\n",
    "\n",
    "lst_android = [\n",
    "    {'Adventure':\"Games\"},\n",
    "    {'Tools':\"Utilities\"},\n",
    "    {'Productivity':\"\"},\n",
    "    {'Communication':\"Social\"},\n",
    "    {'Social':\"\"},\n",
    "    {'Libraries & Demo':\"Books\"},\n",
    "    {'Lifestyle':\"\"},\n",
    "    {'Personalization':\"Utilities\"},\n",
    "    {'Racing':\"Games\"},\n",
    "    {'Maps & Navigation':\"Navigation\"},\n",
    "    {'Travel & Local':\"Travel\"},\n",
    "    {'Food & Drink':\"\"},\n",
    "    {'Books & Reference':\"Reference\"},\n",
    "    {'Medical':\"\"},\n",
    "    {'Puzzle':\"Games\"},\n",
    "    {'Entertainment':\"\"},\n",
    "    {'Arcade':\"Games\"},\n",
    "    {'Auto & Vehicles':\"Sports\"},\n",
    "    {'Photography':\"Photo & Video\"},\n",
    "    {'Health & Fitness':\"\"},\n",
    "    {'Education':\"\"},\n",
    "    {'Shopping':\"\"},\n",
    "    {'Board':\"Games\"},\n",
    "    {'Music & Audio':\"Music\"},\n",
    "    {'Sports':\"\"},\n",
    "    {'Beauty':\"Health & Fitness\"},\n",
    "    {'Business':\"\"},\n",
    "    {'Educational':\"Games\"},\n",
    "    {'Finance':\"\"},\n",
    "    {'News & Magazines':\"Magazines & Newspapers\"},\n",
    "    {'Casual':\"Games\"},\n",
    "    {'Art & Design':\"Graphics & Design\"},\n",
    "    {'House & Home':\"Lifestyle\"},\n",
    "    {'Card':\"Games\"},\n",
    "    {'Events':\"Lifestyle\"},\n",
    "    {'Trivia':\"Games\"},\n",
    "    {'Weather':\"\"},\n",
    "    {'Strategy':\"Games\"},\n",
    "    {'Word':\"Games\"},\n",
    "    {'Video Players & Editors':\"Photo & Video\"},\n",
    "    {'Action':\"Games\"},\n",
    "    {'Simulation':\"Games\"},\n",
    "    {'Music':\"\"},\n",
    "    {'Dating':\"Social\"},\n",
    "    {'Role Playing':\"Games\"},\n",
    "    {'Casino':\"Games\"},\n",
    "    {'Comics':\"Book\"},\n",
    "    {'Parenting':\"Book\"}\n",
    "]\n",
    "\n",
    "\n",
    "lst_apple = [\n",
    "    {'Education':\"\"},\n",
    "    {'Book':\"Books\"},\n",
    "    {'Reference':\"\"},\n",
    "    {'News':\"\"},\n",
    "    {'Lifestyle':\"\"},\n",
    "    {'Health & Fitness':\"\"},\n",
    "    {'Games':\"\"},\n",
    "    {'Medical':\"\"},\n",
    "    {'Food & Drink':\"\"},\n",
    "    {'Sports':\"\"},\n",
    "    {'Shopping':\"\"},\n",
    "    {'Entertainment':\"\"},\n",
    "    {'Utilities':\"\"},\n",
    "    {'Stickers':\"Utilities\"},\n",
    "    {'Productivity':\"\"},\n",
    "    {'Music':\"\"},\n",
    "    {'Photo & Video':\"\"},\n",
    "    {'Travel':\"\"},\n",
    "    {'Business':\"\"},\n",
    "    {'Social Networking':\"Social\"},\n",
    "    {'Magazines & Newspapers':\"\"},\n",
    "    {'Navigation':\"\"},\n",
    "    {'Finance':\"\"},\n",
    "    {'Weather':\"\"},\n",
    "    {'Graphics & Design':\"\"},\n",
    "    {'Developer Tools':\"Utilities\"}\n",
    "]\n",
    "\n",
    "\n",
    "\n"
   ]
  },
  {
   "cell_type": "code",
   "execution_count": 21,
   "id": "cd9520b7",
   "metadata": {},
   "outputs": [],
   "source": [
    "# Map apple and google categories to each other\n",
    "def replace_categories(df, cats): \n",
    "    lst = [i for i in cats if i[list(i.keys())[0]] != \"\"]\n",
    "    for i in lst:\n",
    "        df.loc[df[\"Category\"] == list(i.keys())[0],\"Category\"] = i[list(i.keys())[0]]\n",
    "    \n",
    "replace_categories(df_google,lst_android)\n",
    "replace_categories(df_apple,lst_apple)"
   ]
  },
  {
   "cell_type": "code",
   "execution_count": 22,
   "id": "49652b28",
   "metadata": {},
   "outputs": [],
   "source": [
    "# Removing unnecessary columns\n",
    "\n",
    "df_google.drop(columns=[\"Minimum Installs\",\n",
    "                        \"Maximum Installs\",\"Developer Email\",\"Privacy Policy\",\"Scraped Time\"],inplace=True)\n",
    "\n",
    "df_apple.drop(columns=[\"AppStore_Url\",\"Version\",\n",
    "                       \"DeveloperId\",\"Developer_Url\",\n",
    "                       \"Current_Version_Score\",\"Current_Version_Reviews\"],inplace=True)"
   ]
  },
  {
   "cell_type": "code",
   "execution_count": 23,
   "id": "0d8e55bf",
   "metadata": {},
   "outputs": [],
   "source": [
    "df_google.to_csv(\"../data/google_cleaned.csv\")\n",
    "df_apple.to_csv(\"../data/apple_cleaned.csv\")"
   ]
  },
  {
   "cell_type": "code",
   "execution_count": 24,
   "id": "00faed75",
   "metadata": {},
   "outputs": [
    {
     "name": "stdout",
     "output_type": "stream",
     "text": [
      "Done\n"
     ]
    }
   ],
   "source": [
    "print(\"Done\")"
   ]
  }
 ],
 "metadata": {
  "kernelspec": {
   "display_name": "Python 3",
   "language": "python",
   "name": "python3"
  },
  "language_info": {
   "codemirror_mode": {
    "name": "ipython",
    "version": 3
   },
   "file_extension": ".py",
   "mimetype": "text/x-python",
   "name": "python",
   "nbconvert_exporter": "python",
   "pygments_lexer": "ipython3",
   "version": "3.8.10"
  }
 },
 "nbformat": 4,
 "nbformat_minor": 5
}
