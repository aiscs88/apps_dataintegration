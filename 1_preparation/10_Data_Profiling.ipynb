{
 "cells": [
  {
   "cell_type": "code",
   "execution_count": 1,
   "id": "96f1aaf6",
   "metadata": {},
   "outputs": [],
   "source": [
    "import pandas as pd\n",
    "import matplotlib.pyplot as plt\n",
    "import seaborn as sns\n",
    "\n",
    "\n",
    "pd.set_option(\"display.max_columns\", None)\n",
    "pd.set_option(\"display.max_rows\", 100)\n",
    "\n",
    "import warnings\n",
    "warnings.filterwarnings('ignore')\n",
    "plt.ticklabel_format(style='plain')\n",
    "%matplotlib inline\n"
   ]
  },
  {
   "cell_type": "code",
   "execution_count": 2,
   "id": "c3ecfb06",
   "metadata": {},
   "outputs": [],
   "source": [
    "df_google = pd.read_csv('../data/google_cleaned.csv',parse_dates=[\"Released\",\"Updated\"],index_col=[0])\n",
    "df_apple = pd.read_csv('../data/apple_cleaned.csv',parse_dates=[\"Released\",\"Updated\"],index_col=[0])"
   ]
  },
  {
   "cell_type": "markdown",
   "id": "ea4bb60a",
   "metadata": {},
   "source": [
    "# Android Columns"
   ]
  },
  {
   "cell_type": "code",
   "execution_count": 100,
   "id": "f2aefaed",
   "metadata": {},
   "outputs": [
    {
     "name": "stdout",
     "output_type": "stream",
     "text": [
      "<class 'pandas.core.frame.DataFrame'>\n",
      "Int64Index: 2312942 entries, 0 to 2312943\n",
      "Data columns (total 19 columns):\n",
      " #   Column             Dtype         \n",
      "---  ------             -----         \n",
      " 0   App Name           object        \n",
      " 1   App Id             object        \n",
      " 2   Category           object        \n",
      " 3   Rating             float64       \n",
      " 4   Rating Count       float64       \n",
      " 5   Installs           float64       \n",
      " 6   Free               bool          \n",
      " 7   Price              float64       \n",
      " 8   Currency           object        \n",
      " 9   Size               float64       \n",
      " 10  Minimum OS         object        \n",
      " 11  Developer          object        \n",
      " 12  Developer Website  object        \n",
      " 13  Released           datetime64[ns]\n",
      " 14  Updated            datetime64[ns]\n",
      " 15  Content Rating     object        \n",
      " 16  Ad Supported       bool          \n",
      " 17  In App Purchases   bool          \n",
      " 18  Editors Choice     bool          \n",
      "dtypes: bool(4), datetime64[ns](2), float64(5), object(8)\n",
      "memory usage: 291.2+ MB\n"
     ]
    }
   ],
   "source": [
    "df_google.info()"
   ]
  },
  {
   "cell_type": "markdown",
   "id": "d0bdb479",
   "metadata": {},
   "source": [
    "# Apple Columns"
   ]
  },
  {
   "cell_type": "code",
   "execution_count": 101,
   "id": "000e9143",
   "metadata": {},
   "outputs": [
    {
     "name": "stdout",
     "output_type": "stream",
     "text": [
      "<class 'pandas.core.frame.DataFrame'>\n",
      "Int64Index: 1230375 entries, 0 to 1230375\n",
      "Data columns (total 15 columns):\n",
      " #   Column             Non-Null Count    Dtype              \n",
      "---  ------             --------------    -----              \n",
      " 0   App Id             1230375 non-null  object             \n",
      " 1   App Name           1230375 non-null  object             \n",
      " 2   Category           1230375 non-null  object             \n",
      " 3   Content Rating     1230375 non-null  object             \n",
      " 4   Size               1230375 non-null  float64            \n",
      " 5   Minimum OS         1230375 non-null  object             \n",
      " 6   Released           1230372 non-null  datetime64[ns, UTC]\n",
      " 7   Updated            1230375 non-null  datetime64[ns, UTC]\n",
      " 8   Price              1230375 non-null  float64            \n",
      " 9   Currency           1230375 non-null  object             \n",
      " 10  Free               1230375 non-null  bool               \n",
      " 11  Developer          1230375 non-null  object             \n",
      " 12  Developer Website  586387 non-null   object             \n",
      " 13  Rating             1230375 non-null  float64            \n",
      " 14  Rating Count       1230375 non-null  int64              \n",
      "dtypes: bool(1), datetime64[ns, UTC](2), float64(3), int64(1), object(8)\n",
      "memory usage: 142.0+ MB\n"
     ]
    }
   ],
   "source": [
    "df_apple.info()"
   ]
  },
  {
   "cell_type": "markdown",
   "id": "0dbb9780",
   "metadata": {},
   "source": [
    "# General Column Info"
   ]
  },
  {
   "cell_type": "markdown",
   "id": "520b39e8",
   "metadata": {},
   "source": [
    "## Android"
   ]
  },
  {
   "cell_type": "code",
   "execution_count": 25,
   "id": "9c6a87b8",
   "metadata": {},
   "outputs": [
    {
     "data": {
      "text/html": [
       "<div>\n",
       "<style scoped>\n",
       "    .dataframe tbody tr th:only-of-type {\n",
       "        vertical-align: middle;\n",
       "    }\n",
       "\n",
       "    .dataframe tbody tr th {\n",
       "        vertical-align: top;\n",
       "    }\n",
       "\n",
       "    .dataframe thead th {\n",
       "        text-align: right;\n",
       "    }\n",
       "</style>\n",
       "<table border=\"1\" class=\"dataframe\">\n",
       "  <thead>\n",
       "    <tr style=\"text-align: right;\">\n",
       "      <th></th>\n",
       "      <th>count</th>\n",
       "      <th>mean</th>\n",
       "      <th>std</th>\n",
       "      <th>min</th>\n",
       "      <th>25%</th>\n",
       "      <th>50%</th>\n",
       "      <th>75%</th>\n",
       "      <th>max</th>\n",
       "    </tr>\n",
       "  </thead>\n",
       "  <tbody>\n",
       "    <tr>\n",
       "      <th>Rating</th>\n",
       "      <td>2312942.000000</td>\n",
       "      <td>2.181354</td>\n",
       "      <td>2.107091</td>\n",
       "      <td>0.000000</td>\n",
       "      <td>0.000000</td>\n",
       "      <td>2.800000</td>\n",
       "      <td>4.300000</td>\n",
       "      <td>5.000000</td>\n",
       "    </tr>\n",
       "    <tr>\n",
       "      <th>Rating Count</th>\n",
       "      <td>2312942.000000</td>\n",
       "      <td>2836.497978</td>\n",
       "      <td>211110.733425</td>\n",
       "      <td>0.000000</td>\n",
       "      <td>0.000000</td>\n",
       "      <td>6.000000</td>\n",
       "      <td>41.000000</td>\n",
       "      <td>138557570.000000</td>\n",
       "    </tr>\n",
       "    <tr>\n",
       "      <th>Installs</th>\n",
       "      <td>2312835.000000</td>\n",
       "      <td>251829.358096</td>\n",
       "      <td>19130575.903197</td>\n",
       "      <td>0.000000</td>\n",
       "      <td>67.000000</td>\n",
       "      <td>598.000000</td>\n",
       "      <td>6176.000000</td>\n",
       "      <td>11028813508.000000</td>\n",
       "    </tr>\n",
       "    <tr>\n",
       "      <th>Price</th>\n",
       "      <td>2312942.000000</td>\n",
       "      <td>0.103499</td>\n",
       "      <td>2.633128</td>\n",
       "      <td>0.000000</td>\n",
       "      <td>0.000000</td>\n",
       "      <td>0.000000</td>\n",
       "      <td>0.000000</td>\n",
       "      <td>400.000000</td>\n",
       "    </tr>\n",
       "    <tr>\n",
       "      <th>Size</th>\n",
       "      <td>2312942.000000</td>\n",
       "      <td>19891429.399410</td>\n",
       "      <td>24895145.310506</td>\n",
       "      <td>3072.000000</td>\n",
       "      <td>5242880.000000</td>\n",
       "      <td>11534336.000000</td>\n",
       "      <td>25165824.000000</td>\n",
       "      <td>1073741824.000000</td>\n",
       "    </tr>\n",
       "  </tbody>\n",
       "</table>\n",
       "</div>"
      ],
      "text/plain": [
       "                      count            mean             std         min  \\\n",
       "Rating       2312942.000000        2.181354        2.107091    0.000000   \n",
       "Rating Count 2312942.000000     2836.497978   211110.733425    0.000000   \n",
       "Installs     2312835.000000   251829.358096 19130575.903197    0.000000   \n",
       "Price        2312942.000000        0.103499        2.633128    0.000000   \n",
       "Size         2312942.000000 19891429.399410 24895145.310506 3072.000000   \n",
       "\n",
       "                        25%             50%             75%                max  \n",
       "Rating             0.000000        2.800000        4.300000           5.000000  \n",
       "Rating Count       0.000000        6.000000       41.000000   138557570.000000  \n",
       "Installs          67.000000      598.000000     6176.000000 11028813508.000000  \n",
       "Price              0.000000        0.000000        0.000000         400.000000  \n",
       "Size         5242880.000000 11534336.000000 25165824.000000  1073741824.000000  "
      ]
     },
     "metadata": {},
     "output_type": "display_data"
    }
   ],
   "source": [
    "with pd.option_context('float_format', '{:f}'.format):\n",
    "    display(df_google.describe().T)"
   ]
  },
  {
   "cell_type": "markdown",
   "id": "564d4237",
   "metadata": {},
   "source": [
    "## Apple"
   ]
  },
  {
   "cell_type": "code",
   "execution_count": 24,
   "id": "49201454",
   "metadata": {},
   "outputs": [
    {
     "data": {
      "text/html": [
       "<div>\n",
       "<style scoped>\n",
       "    .dataframe tbody tr th:only-of-type {\n",
       "        vertical-align: middle;\n",
       "    }\n",
       "\n",
       "    .dataframe tbody tr th {\n",
       "        vertical-align: top;\n",
       "    }\n",
       "\n",
       "    .dataframe thead th {\n",
       "        text-align: right;\n",
       "    }\n",
       "</style>\n",
       "<table border=\"1\" class=\"dataframe\">\n",
       "  <thead>\n",
       "    <tr style=\"text-align: right;\">\n",
       "      <th></th>\n",
       "      <th>count</th>\n",
       "      <th>mean</th>\n",
       "      <th>std</th>\n",
       "      <th>min</th>\n",
       "      <th>25%</th>\n",
       "      <th>50%</th>\n",
       "      <th>75%</th>\n",
       "      <th>max</th>\n",
       "    </tr>\n",
       "  </thead>\n",
       "  <tbody>\n",
       "    <tr>\n",
       "      <th>Rating</th>\n",
       "      <td>2312942.000000</td>\n",
       "      <td>2.181354</td>\n",
       "      <td>2.107091</td>\n",
       "      <td>0.000000</td>\n",
       "      <td>0.000000</td>\n",
       "      <td>2.800000</td>\n",
       "      <td>4.300000</td>\n",
       "      <td>5.000000</td>\n",
       "    </tr>\n",
       "    <tr>\n",
       "      <th>Rating Count</th>\n",
       "      <td>2312942.000000</td>\n",
       "      <td>2836.497978</td>\n",
       "      <td>211110.733425</td>\n",
       "      <td>0.000000</td>\n",
       "      <td>0.000000</td>\n",
       "      <td>6.000000</td>\n",
       "      <td>41.000000</td>\n",
       "      <td>138557570.000000</td>\n",
       "    </tr>\n",
       "    <tr>\n",
       "      <th>Installs</th>\n",
       "      <td>2312835.000000</td>\n",
       "      <td>251829.358096</td>\n",
       "      <td>19130575.903197</td>\n",
       "      <td>0.000000</td>\n",
       "      <td>67.000000</td>\n",
       "      <td>598.000000</td>\n",
       "      <td>6176.000000</td>\n",
       "      <td>11028813508.000000</td>\n",
       "    </tr>\n",
       "    <tr>\n",
       "      <th>Price</th>\n",
       "      <td>2312942.000000</td>\n",
       "      <td>0.103499</td>\n",
       "      <td>2.633128</td>\n",
       "      <td>0.000000</td>\n",
       "      <td>0.000000</td>\n",
       "      <td>0.000000</td>\n",
       "      <td>0.000000</td>\n",
       "      <td>400.000000</td>\n",
       "    </tr>\n",
       "    <tr>\n",
       "      <th>Size</th>\n",
       "      <td>2312942.000000</td>\n",
       "      <td>19891429.399410</td>\n",
       "      <td>24895145.310506</td>\n",
       "      <td>3072.000000</td>\n",
       "      <td>5242880.000000</td>\n",
       "      <td>11534336.000000</td>\n",
       "      <td>25165824.000000</td>\n",
       "      <td>1073741824.000000</td>\n",
       "    </tr>\n",
       "  </tbody>\n",
       "</table>\n",
       "</div>"
      ],
      "text/plain": [
       "                      count            mean             std         min  \\\n",
       "Rating       2312942.000000        2.181354        2.107091    0.000000   \n",
       "Rating Count 2312942.000000     2836.497978   211110.733425    0.000000   \n",
       "Installs     2312835.000000   251829.358096 19130575.903197    0.000000   \n",
       "Price        2312942.000000        0.103499        2.633128    0.000000   \n",
       "Size         2312942.000000 19891429.399410 24895145.310506 3072.000000   \n",
       "\n",
       "                        25%             50%             75%                max  \n",
       "Rating             0.000000        2.800000        4.300000           5.000000  \n",
       "Rating Count       0.000000        6.000000       41.000000   138557570.000000  \n",
       "Installs          67.000000      598.000000     6176.000000 11028813508.000000  \n",
       "Price              0.000000        0.000000        0.000000         400.000000  \n",
       "Size         5242880.000000 11534336.000000 25165824.000000  1073741824.000000  "
      ]
     },
     "metadata": {},
     "output_type": "display_data"
    }
   ],
   "source": [
    "with pd.option_context('float_format', '{:f}'.format):\n",
    "    display(df_google.describe().T)"
   ]
  },
  {
   "cell_type": "markdown",
   "id": "86037bd9",
   "metadata": {},
   "source": [
    "# Categories"
   ]
  },
  {
   "cell_type": "markdown",
   "id": "28ea493c",
   "metadata": {},
   "source": [
    "## Apps per Category"
   ]
  },
  {
   "cell_type": "markdown",
   "id": "8b7d698c",
   "metadata": {},
   "source": [
    "### Android"
   ]
  },
  {
   "cell_type": "code",
   "execution_count": 49,
   "id": "7271d92d",
   "metadata": {},
   "outputs": [
    {
     "data": {
      "image/png": "[encoded data removed]",
      "text/plain": [
       "<Figure size 1080x576 with 1 Axes>"
      ]
     },
     "metadata": {
      "needs_background": "light"
     },
     "output_type": "display_data"
    }
   ],
   "source": [
    "plt.subplots(figsize=(15,8))\n",
    "data = df_google['Category'].value_counts()\n",
    "\n",
    "plt.xticks(rotation=70)\n",
    "#sns.barplot(x=data.index,y=data)\n",
    "sns.countplot(y='Category',data=df_apple,palette='flare')\n",
    "plt.show()"
   ]
  },
  {
   "cell_type": "markdown",
   "id": "8bdc7790",
   "metadata": {},
   "source": [
    "### Apple"
   ]
  },
  {
   "cell_type": "code",
   "execution_count": 48,
   "id": "26576577",
   "metadata": {},
   "outputs": [
    {
     "data": {
      "image/png": "[encoded data removed]",
      "text/plain": [
       "<Figure size 1080x576 with 1 Axes>"
      ]
     },
     "metadata": {
      "needs_background": "light"
     },
     "output_type": "display_data"
    }
   ],
   "source": [
    "plt.subplots(figsize=(15,8))\n",
    "data = df_apple['Category'].value_counts()\n",
    "\n",
    "plt.xticks(rotation=70)\n",
    "#sns.barplot(x=data.index,y=data)\n",
    "sns.countplot(y='Category',data=df_apple,palette='flare')\n",
    "\n",
    "\n",
    "plt.show()"
   ]
  },
  {
   "cell_type": "markdown",
   "id": "6584fe19",
   "metadata": {},
   "source": [
    "# Rating"
   ]
  },
  {
   "cell_type": "markdown",
   "id": "69d6962f",
   "metadata": {},
   "source": [
    "## Android"
   ]
  },
  {
   "cell_type": "code",
   "execution_count": 19,
   "id": "2badb85c",
   "metadata": {},
   "outputs": [
    {
     "data": {
      "text/html": [
       "<div>\n",
       "<style scoped>\n",
       "    .dataframe tbody tr th:only-of-type {\n",
       "        vertical-align: middle;\n",
       "    }\n",
       "\n",
       "    .dataframe tbody tr th {\n",
       "        vertical-align: top;\n",
       "    }\n",
       "\n",
       "    .dataframe thead th {\n",
       "        text-align: right;\n",
       "    }\n",
       "</style>\n",
       "<table border=\"1\" class=\"dataframe\">\n",
       "  <thead>\n",
       "    <tr style=\"text-align: right;\">\n",
       "      <th></th>\n",
       "      <th>count</th>\n",
       "      <th>mean</th>\n",
       "      <th>std</th>\n",
       "      <th>min</th>\n",
       "      <th>25%</th>\n",
       "      <th>50%</th>\n",
       "      <th>75%</th>\n",
       "      <th>max</th>\n",
       "    </tr>\n",
       "  </thead>\n",
       "  <tbody>\n",
       "    <tr>\n",
       "      <th>Rating</th>\n",
       "      <td>2312942.0</td>\n",
       "      <td>2.181354</td>\n",
       "      <td>2.107091</td>\n",
       "      <td>0.0</td>\n",
       "      <td>0.0</td>\n",
       "      <td>2.8</td>\n",
       "      <td>4.3</td>\n",
       "      <td>5.0</td>\n",
       "    </tr>\n",
       "  </tbody>\n",
       "</table>\n",
       "</div>"
      ],
      "text/plain": [
       "            count      mean       std  min  25%  50%  75%  max\n",
       "Rating  2312942.0  2.181354  2.107091  0.0  0.0  2.8  4.3  5.0"
      ]
     },
     "metadata": {},
     "output_type": "display_data"
    },
    {
     "data": {
      "image/png": "[encoded data removed]",
      "text/plain": [
       "<Figure size 1080x576 with 2 Axes>"
      ]
     },
     "metadata": {
      "needs_background": "light"
     },
     "output_type": "display_data"
    }
   ],
   "source": [
    "_,ax=plt.subplots(1,2,figsize=(15,8))\n",
    "\n",
    "ax[0].ticklabel_format(style='plain')\n",
    "ax[0].hist(df_google[\"Rating\"],bins=15)\n",
    "ax[0].set(title=\"Android App Ratings\",xlabel=\"Ratings\",ylabel=\"Count\")\n",
    "\n",
    "ax[1].ticklabel_format(style='plain')\n",
    "ax[1].hist(df_google[df_google[\"Rating Count\"] < 20][\"Rating Count\"],bins=20)\n",
    "\n",
    "display(df_google.describe()[[\"Rating\"]].T)\n",
    "plt.show()"
   ]
  },
  {
   "cell_type": "markdown",
   "id": "683d8433",
   "metadata": {},
   "source": [
    "## Apple"
   ]
  },
  {
   "cell_type": "code",
   "execution_count": 18,
   "id": "99983cc0",
   "metadata": {},
   "outputs": [
    {
     "data": {
      "text/html": [
       "<div>\n",
       "<style scoped>\n",
       "    .dataframe tbody tr th:only-of-type {\n",
       "        vertical-align: middle;\n",
       "    }\n",
       "\n",
       "    .dataframe tbody tr th {\n",
       "        vertical-align: top;\n",
       "    }\n",
       "\n",
       "    .dataframe thead th {\n",
       "        text-align: right;\n",
       "    }\n",
       "</style>\n",
       "<table border=\"1\" class=\"dataframe\">\n",
       "  <thead>\n",
       "    <tr style=\"text-align: right;\">\n",
       "      <th></th>\n",
       "      <th>count</th>\n",
       "      <th>mean</th>\n",
       "      <th>std</th>\n",
       "      <th>min</th>\n",
       "      <th>25%</th>\n",
       "      <th>50%</th>\n",
       "      <th>75%</th>\n",
       "      <th>max</th>\n",
       "    </tr>\n",
       "  </thead>\n",
       "  <tbody>\n",
       "    <tr>\n",
       "      <th>Rating</th>\n",
       "      <td>1230375.0</td>\n",
       "      <td>1.788384</td>\n",
       "      <td>2.154104</td>\n",
       "      <td>0.0</td>\n",
       "      <td>0.0</td>\n",
       "      <td>0.0</td>\n",
       "      <td>4.33333</td>\n",
       "      <td>5.0</td>\n",
       "    </tr>\n",
       "  </tbody>\n",
       "</table>\n",
       "</div>"
      ],
      "text/plain": [
       "            count      mean       std  min  25%  50%      75%  max\n",
       "Rating  1230375.0  1.788384  2.154104  0.0  0.0  0.0  4.33333  5.0"
      ]
     },
     "metadata": {},
     "output_type": "display_data"
    },
    {
     "data": {
      "image/png": "[encoded data removed]",
      "text/plain": [
       "<Figure size 1080x576 with 2 Axes>"
      ]
     },
     "metadata": {
      "needs_background": "light"
     },
     "output_type": "display_data"
    }
   ],
   "source": [
    "_,ax=plt.subplots(1,2,figsize=(15,8))\n",
    "\n",
    "ax[0].ticklabel_format(style='plain')\n",
    "ax[0].hist(df_apple[\"Rating\"],bins=15)\n",
    "ax[0].set(title=\"Apple App Ratings\",xlabel=\"Ratings\",ylabel=\"Count\")\n",
    "\n",
    "ax[1].ticklabel_format(style='plain')\n",
    "ax[1].hist(df_apple[df_apple[\"Rating Count\"] < 20][\"Rating Count\"],bins=20)\n",
    "\n",
    "display(df_apple.describe()[[\"Rating\"]].T)\n",
    "\n",
    "plt.show()"
   ]
  },
  {
   "cell_type": "code",
   "execution_count": 30,
   "id": "d84cc314",
   "metadata": {},
   "outputs": [
    {
     "data": {
      "text/html": [
       "<div>\n",
       "<style scoped>\n",
       "    .dataframe tbody tr th:only-of-type {\n",
       "        vertical-align: middle;\n",
       "    }\n",
       "\n",
       "    .dataframe tbody tr th {\n",
       "        vertical-align: top;\n",
       "    }\n",
       "\n",
       "    .dataframe thead th {\n",
       "        text-align: right;\n",
       "    }\n",
       "</style>\n",
       "<table border=\"1\" class=\"dataframe\">\n",
       "  <thead>\n",
       "    <tr style=\"text-align: right;\">\n",
       "      <th></th>\n",
       "      <th>App Name</th>\n",
       "      <th>App Id</th>\n",
       "      <th>Category</th>\n",
       "      <th>Rating</th>\n",
       "      <th>Rating Count</th>\n",
       "      <th>Installs</th>\n",
       "      <th>Free</th>\n",
       "      <th>Price</th>\n",
       "      <th>Currency</th>\n",
       "      <th>Size</th>\n",
       "      <th>Minimum OS</th>\n",
       "      <th>Developer</th>\n",
       "      <th>Developer Website</th>\n",
       "      <th>Released</th>\n",
       "      <th>Updated</th>\n",
       "      <th>Content Rating</th>\n",
       "      <th>Ad Supported</th>\n",
       "      <th>In App Purchases</th>\n",
       "      <th>Editors Choice</th>\n",
       "    </tr>\n",
       "  </thead>\n",
       "  <tbody>\n",
       "    <tr>\n",
       "      <th>0</th>\n",
       "      <td>Gakondo</td>\n",
       "      <td>com.ishakwe.gakondo</td>\n",
       "      <td>Games</td>\n",
       "      <td>0.0</td>\n",
       "      <td>0.0</td>\n",
       "      <td>12.0</td>\n",
       "      <td>True</td>\n",
       "      <td>0.0</td>\n",
       "      <td>USD</td>\n",
       "      <td>10485760.0</td>\n",
       "      <td>7.1</td>\n",
       "      <td>Jean Confident Irénée NIYIZIBYOSE</td>\n",
       "      <td>https://beniyizibyose.tk/#/</td>\n",
       "      <td>2020-02-26</td>\n",
       "      <td>2020-02-26</td>\n",
       "      <td>Everyone</td>\n",
       "      <td>False</td>\n",
       "      <td>False</td>\n",
       "      <td>False</td>\n",
       "    </tr>\n",
       "  </tbody>\n",
       "</table>\n",
       "</div>"
      ],
      "text/plain": [
       "  App Name               App Id Category  Rating  Rating Count  Installs  \\\n",
       "0  Gakondo  com.ishakwe.gakondo    Games     0.0           0.0      12.0   \n",
       "\n",
       "   Free  Price Currency        Size Minimum OS  \\\n",
       "0  True    0.0      USD  10485760.0        7.1   \n",
       "\n",
       "                           Developer            Developer Website   Released  \\\n",
       "0  Jean Confident Irénée NIYIZIBYOSE  https://beniyizibyose.tk/#/ 2020-02-26   \n",
       "\n",
       "     Updated Content Rating  Ad Supported  In App Purchases  Editors Choice  \n",
       "0 2020-02-26       Everyone         False             False           False  "
      ]
     },
     "execution_count": 30,
     "metadata": {},
     "output_type": "execute_result"
    }
   ],
   "source": [
    "df_google.loc[df_google[\"App Name\"].str.contains(\"Gakondo\",regex=True)]"
   ]
  },
  {
   "cell_type": "markdown",
   "id": "2444b57d",
   "metadata": {},
   "source": [
    "# Duplicates"
   ]
  },
  {
   "cell_type": "code",
   "execution_count": 42,
   "id": "ea495221",
   "metadata": {},
   "outputs": [
    {
     "name": "stdout",
     "output_type": "stream",
     "text": [
      "Number of  duplicates in Android Dataset 0\n",
      "Number of  duplicates in Apple Dataset 0\n"
     ]
    }
   ],
   "source": [
    "print(\"Number of  duplicates in Android Dataset \" + str(len(df_google) - len(df_google.drop_duplicates(subset=[\"App Id\",]))))\n",
    "print(\"Number of  duplicates in Apple Dataset \" + str(len(df_apple) - len(df_apple.drop_duplicates(subset=[\"App Id\",]))))"
   ]
  },
  {
   "cell_type": "markdown",
   "id": "f5e411fb",
   "metadata": {},
   "source": [
    "# Free Vs Non-Free"
   ]
  },
  {
   "cell_type": "markdown",
   "id": "c987e65a",
   "metadata": {},
   "source": [
    "## Android"
   ]
  },
  {
   "cell_type": "code",
   "execution_count": 57,
   "id": "4d419252",
   "metadata": {},
   "outputs": [
    {
     "data": {
      "image/png": "[encoded data removed]",
      "text/plain": [
       "<Figure size 432x288 with 1 Axes>"
      ]
     },
     "metadata": {
      "needs_background": "light"
     },
     "output_type": "display_data"
    }
   ],
   "source": [
    "g=sns.countplot(x='Free',data=df_google,palette='flare')\n",
    "plt.xticks(rotation=45)\n",
    "plt.ticklabel_format(style='plain', axis='y')\n",
    "\n",
    "g.set_xticklabels(['Non-Free','Free'])\n",
    "plt.show()"
   ]
  },
  {
   "cell_type": "markdown",
   "id": "c2c3c312",
   "metadata": {},
   "source": [
    "## Apple"
   ]
  },
  {
   "cell_type": "code",
   "execution_count": 59,
   "id": "260d7a07",
   "metadata": {},
   "outputs": [
    {
     "data": {
      "image/png": "[encoded data removed]",
      "text/plain": [
       "<Figure size 432x288 with 1 Axes>"
      ]
     },
     "metadata": {
      "needs_background": "light"
     },
     "output_type": "display_data"
    }
   ],
   "source": [
    "g=sns.countplot(x='Free',data=df_apple,palette='flare')\n",
    "plt.xticks(rotation=45)\n",
    "plt.ticklabel_format(style='plain', axis='y')\n",
    "\n",
    "g.set_xticklabels(['Non-Free','Free'])\n",
    "plt.show()"
   ]
  },
  {
   "cell_type": "markdown",
   "id": "8f8804cd",
   "metadata": {},
   "source": [
    "# Correlation"
   ]
  },
  {
   "cell_type": "markdown",
   "id": "c6daea29",
   "metadata": {},
   "source": [
    "## Android"
   ]
  },
  {
   "cell_type": "code",
   "execution_count": 61,
   "id": "d52cbb09",
   "metadata": {},
   "outputs": [
    {
     "data": {
      "text/html": [
       "<div>\n",
       "<style scoped>\n",
       "    .dataframe tbody tr th:only-of-type {\n",
       "        vertical-align: middle;\n",
       "    }\n",
       "\n",
       "    .dataframe tbody tr th {\n",
       "        vertical-align: top;\n",
       "    }\n",
       "\n",
       "    .dataframe thead th {\n",
       "        text-align: right;\n",
       "    }\n",
       "</style>\n",
       "<table border=\"1\" class=\"dataframe\">\n",
       "  <thead>\n",
       "    <tr style=\"text-align: right;\">\n",
       "      <th></th>\n",
       "      <th>Rating</th>\n",
       "      <th>Rating Count</th>\n",
       "      <th>Installs</th>\n",
       "      <th>Free</th>\n",
       "      <th>Price</th>\n",
       "      <th>Size</th>\n",
       "      <th>Ad Supported</th>\n",
       "      <th>In App Purchases</th>\n",
       "      <th>Editors Choice</th>\n",
       "    </tr>\n",
       "  </thead>\n",
       "  <tbody>\n",
       "    <tr>\n",
       "      <th>Rating</th>\n",
       "      <td>1.000000</td>\n",
       "      <td>0.013107</td>\n",
       "      <td>0.012257</td>\n",
       "      <td>-0.011387</td>\n",
       "      <td>-0.003309</td>\n",
       "      <td>0.053367</td>\n",
       "      <td>0.162949</td>\n",
       "      <td>0.150997</td>\n",
       "      <td>0.019579</td>\n",
       "    </tr>\n",
       "    <tr>\n",
       "      <th>Rating Count</th>\n",
       "      <td>0.013107</td>\n",
       "      <td>1.000000</td>\n",
       "      <td>0.552743</td>\n",
       "      <td>0.001397</td>\n",
       "      <td>-0.000406</td>\n",
       "      <td>0.016733</td>\n",
       "      <td>0.005321</td>\n",
       "      <td>0.025558</td>\n",
       "      <td>0.137313</td>\n",
       "    </tr>\n",
       "    <tr>\n",
       "      <th>Installs</th>\n",
       "      <td>0.012257</td>\n",
       "      <td>0.552743</td>\n",
       "      <td>1.000000</td>\n",
       "      <td>0.001758</td>\n",
       "      <td>-0.000499</td>\n",
       "      <td>0.008858</td>\n",
       "      <td>0.002664</td>\n",
       "      <td>0.015520</td>\n",
       "      <td>0.063231</td>\n",
       "    </tr>\n",
       "    <tr>\n",
       "      <th>Free</th>\n",
       "      <td>-0.011387</td>\n",
       "      <td>0.001397</td>\n",
       "      <td>0.001758</td>\n",
       "      <td>1.000000</td>\n",
       "      <td>-0.278831</td>\n",
       "      <td>-0.006457</td>\n",
       "      <td>0.123617</td>\n",
       "      <td>0.008669</td>\n",
       "      <td>-0.003157</td>\n",
       "    </tr>\n",
       "    <tr>\n",
       "      <th>Price</th>\n",
       "      <td>-0.003309</td>\n",
       "      <td>-0.000406</td>\n",
       "      <td>-0.000499</td>\n",
       "      <td>-0.278831</td>\n",
       "      <td>1.000000</td>\n",
       "      <td>0.004501</td>\n",
       "      <td>-0.034276</td>\n",
       "      <td>-0.002634</td>\n",
       "      <td>0.000503</td>\n",
       "    </tr>\n",
       "    <tr>\n",
       "      <th>Size</th>\n",
       "      <td>0.053367</td>\n",
       "      <td>0.016733</td>\n",
       "      <td>0.008858</td>\n",
       "      <td>-0.006457</td>\n",
       "      <td>0.004501</td>\n",
       "      <td>1.000000</td>\n",
       "      <td>-0.047643</td>\n",
       "      <td>0.175709</td>\n",
       "      <td>0.042346</td>\n",
       "    </tr>\n",
       "    <tr>\n",
       "      <th>Ad Supported</th>\n",
       "      <td>0.162949</td>\n",
       "      <td>0.005321</td>\n",
       "      <td>0.002664</td>\n",
       "      <td>0.123617</td>\n",
       "      <td>-0.034276</td>\n",
       "      <td>-0.047643</td>\n",
       "      <td>1.000000</td>\n",
       "      <td>0.138313</td>\n",
       "      <td>0.005702</td>\n",
       "    </tr>\n",
       "    <tr>\n",
       "      <th>In App Purchases</th>\n",
       "      <td>0.150997</td>\n",
       "      <td>0.025558</td>\n",
       "      <td>0.015520</td>\n",
       "      <td>0.008669</td>\n",
       "      <td>-0.002634</td>\n",
       "      <td>0.175709</td>\n",
       "      <td>0.138313</td>\n",
       "      <td>1.000000</td>\n",
       "      <td>0.046078</td>\n",
       "    </tr>\n",
       "    <tr>\n",
       "      <th>Editors Choice</th>\n",
       "      <td>0.019579</td>\n",
       "      <td>0.137313</td>\n",
       "      <td>0.063231</td>\n",
       "      <td>-0.003157</td>\n",
       "      <td>0.000503</td>\n",
       "      <td>0.042346</td>\n",
       "      <td>0.005702</td>\n",
       "      <td>0.046078</td>\n",
       "      <td>1.000000</td>\n",
       "    </tr>\n",
       "  </tbody>\n",
       "</table>\n",
       "</div>"
      ],
      "text/plain": [
       "                    Rating  Rating Count  Installs      Free     Price  \\\n",
       "Rating            1.000000      0.013107  0.012257 -0.011387 -0.003309   \n",
       "Rating Count      0.013107      1.000000  0.552743  0.001397 -0.000406   \n",
       "Installs          0.012257      0.552743  1.000000  0.001758 -0.000499   \n",
       "Free             -0.011387      0.001397  0.001758  1.000000 -0.278831   \n",
       "Price            -0.003309     -0.000406 -0.000499 -0.278831  1.000000   \n",
       "Size              0.053367      0.016733  0.008858 -0.006457  0.004501   \n",
       "Ad Supported      0.162949      0.005321  0.002664  0.123617 -0.034276   \n",
       "In App Purchases  0.150997      0.025558  0.015520  0.008669 -0.002634   \n",
       "Editors Choice    0.019579      0.137313  0.063231 -0.003157  0.000503   \n",
       "\n",
       "                      Size  Ad Supported  In App Purchases  Editors Choice  \n",
       "Rating            0.053367      0.162949          0.150997        0.019579  \n",
       "Rating Count      0.016733      0.005321          0.025558        0.137313  \n",
       "Installs          0.008858      0.002664          0.015520        0.063231  \n",
       "Free             -0.006457      0.123617          0.008669       -0.003157  \n",
       "Price             0.004501     -0.034276         -0.002634        0.000503  \n",
       "Size              1.000000     -0.047643          0.175709        0.042346  \n",
       "Ad Supported     -0.047643      1.000000          0.138313        0.005702  \n",
       "In App Purchases  0.175709      0.138313          1.000000        0.046078  \n",
       "Editors Choice    0.042346      0.005702          0.046078        1.000000  "
      ]
     },
     "execution_count": 61,
     "metadata": {},
     "output_type": "execute_result"
    }
   ],
   "source": [
    "df_google.corr()"
   ]
  },
  {
   "cell_type": "code",
   "execution_count": 11,
   "id": "07573e6f",
   "metadata": {},
   "outputs": [
    {
     "data": {
      "image/png": "[encoded data removed]",
      "text/plain": [
       "<Figure size 1152x432 with 2 Axes>"
      ]
     },
     "metadata": {
      "needs_background": "light"
     },
     "output_type": "display_data"
    }
   ],
   "source": [
    "plt.figure(figsize=(16, 6))\n",
    "heatmap = sns.heatmap(df_google.corr(), vmin=-1, vmax=1, annot=True)\n",
    "heatmap.set_title('Correlation Heatmap', fontdict={'fontsize':12}, pad=12);\n",
    "\n"
   ]
  },
  {
   "cell_type": "code",
   "execution_count": null,
   "id": "5d453561",
   "metadata": {},
   "outputs": [],
   "source": [
    "## Apple"
   ]
  },
  {
   "cell_type": "code",
   "execution_count": 62,
   "id": "e16d3980",
   "metadata": {},
   "outputs": [
    {
     "data": {
      "text/html": [
       "<div>\n",
       "<style scoped>\n",
       "    .dataframe tbody tr th:only-of-type {\n",
       "        vertical-align: middle;\n",
       "    }\n",
       "\n",
       "    .dataframe tbody tr th {\n",
       "        vertical-align: top;\n",
       "    }\n",
       "\n",
       "    .dataframe thead th {\n",
       "        text-align: right;\n",
       "    }\n",
       "</style>\n",
       "<table border=\"1\" class=\"dataframe\">\n",
       "  <thead>\n",
       "    <tr style=\"text-align: right;\">\n",
       "      <th></th>\n",
       "      <th>Size</th>\n",
       "      <th>Price</th>\n",
       "      <th>Free</th>\n",
       "      <th>Rating</th>\n",
       "      <th>Rating Count</th>\n",
       "    </tr>\n",
       "  </thead>\n",
       "  <tbody>\n",
       "    <tr>\n",
       "      <th>Size</th>\n",
       "      <td>1.000000</td>\n",
       "      <td>0.056303</td>\n",
       "      <td>-0.048080</td>\n",
       "      <td>0.048474</td>\n",
       "      <td>0.011250</td>\n",
       "    </tr>\n",
       "    <tr>\n",
       "      <th>Price</th>\n",
       "      <td>0.056303</td>\n",
       "      <td>1.000000</td>\n",
       "      <td>-0.242745</td>\n",
       "      <td>-0.010434</td>\n",
       "      <td>-0.001087</td>\n",
       "    </tr>\n",
       "    <tr>\n",
       "      <th>Free</th>\n",
       "      <td>-0.048080</td>\n",
       "      <td>-0.242745</td>\n",
       "      <td>1.000000</td>\n",
       "      <td>0.000246</td>\n",
       "      <td>0.004428</td>\n",
       "    </tr>\n",
       "    <tr>\n",
       "      <th>Rating</th>\n",
       "      <td>0.048474</td>\n",
       "      <td>-0.010434</td>\n",
       "      <td>0.000246</td>\n",
       "      <td>1.000000</td>\n",
       "      <td>0.022167</td>\n",
       "    </tr>\n",
       "    <tr>\n",
       "      <th>Rating Count</th>\n",
       "      <td>0.011250</td>\n",
       "      <td>-0.001087</td>\n",
       "      <td>0.004428</td>\n",
       "      <td>0.022167</td>\n",
       "      <td>1.000000</td>\n",
       "    </tr>\n",
       "  </tbody>\n",
       "</table>\n",
       "</div>"
      ],
      "text/plain": [
       "                  Size     Price      Free    Rating  Rating Count\n",
       "Size          1.000000  0.056303 -0.048080  0.048474      0.011250\n",
       "Price         0.056303  1.000000 -0.242745 -0.010434     -0.001087\n",
       "Free         -0.048080 -0.242745  1.000000  0.000246      0.004428\n",
       "Rating        0.048474 -0.010434  0.000246  1.000000      0.022167\n",
       "Rating Count  0.011250 -0.001087  0.004428  0.022167      1.000000"
      ]
     },
     "execution_count": 62,
     "metadata": {},
     "output_type": "execute_result"
    }
   ],
   "source": [
    "df_apple.corr()"
   ]
  },
  {
   "cell_type": "code",
   "execution_count": 63,
   "id": "de762268",
   "metadata": {},
   "outputs": [
    {
     "data": {
      "image/png": "[encoded data removed]",
      "text/plain": [
       "<Figure size 1152x432 with 2 Axes>"
      ]
     },
     "metadata": {
      "needs_background": "light"
     },
     "output_type": "display_data"
    }
   ],
   "source": [
    "plt.figure(figsize=(16, 6))\n",
    "heatmap = sns.heatmap(df_apple.corr(), vmin=-1, vmax=1, annot=True)\n",
    "heatmap.set_title('Correlation Heatmap', fontdict={'fontsize':12}, pad=12);"
   ]
  },
  {
   "cell_type": "code",
   "execution_count": null,
   "id": "4ed98fee",
   "metadata": {},
   "outputs": [],
   "source": []
  }
 ],
 "metadata": {
  "kernelspec": {
   "display_name": "Python 3",
   "language": "python",
   "name": "python3"
  },
  "language_info": {
   "codemirror_mode": {
    "name": "ipython",
    "version": 3
   },
   "file_extension": ".py",
   "mimetype": "text/x-python",
   "name": "python",
   "nbconvert_exporter": "python",
   "pygments_lexer": "ipython3",
   "version": "3.8.10"
  }
 },
 "nbformat": 4,
 "nbformat_minor": 5
}
